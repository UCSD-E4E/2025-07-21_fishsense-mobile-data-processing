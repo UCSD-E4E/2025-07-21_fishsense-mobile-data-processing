{
 "cells": [
  {
   "cell_type": "code",
   "execution_count": 99,
   "id": "92db4643",
   "metadata": {},
   "outputs": [],
   "source": [
    "# imports\n",
    "import pandas as pd\n",
    "import seaborn as sns\n",
    "import matplotlib.pyplot as plt\n",
    "import os"
   ]
  },
  {
   "cell_type": "code",
   "execution_count": 100,
   "id": "eba44910",
   "metadata": {},
   "outputs": [],
   "source": [
    "ccfrp_dates = ['20250627', '20250702', '20250703']"
   ]
  },
  {
   "cell_type": "code",
   "execution_count": 101,
   "id": "e98ef17f",
   "metadata": {},
   "outputs": [],
   "source": [
    "# Thinking about fish morphology (rockfish have same total length as fork length)"
   ]
  },
  {
   "cell_type": "code",
   "execution_count": 108,
   "id": "53c9cffc",
   "metadata": {},
   "outputs": [],
   "source": [
    "\n",
    "\n",
    "\n",
    "def rock_fish_adjustment(df):\n",
    "    \"\"\"\n",
    "    Adjusts the GT Total Length for rockfish species by setting it equal to GT Fork Length.\n",
    "    \"\"\"\n",
    "    rockfish_species = ['Black Rockfish', 'Blue Rockfish', 'China Rockfish', 'Copper Rockfish', 'Deacon Rockfish',\n",
    "                        'Gopher Rockfish', 'Grass Rockfish', 'Olive Rockfish', 'Quillback Rockfish',\n",
    "                        'Redbanded Rockfish', 'Rosy Rockfish', 'Tiger Rockfish', 'Brown Rockfish', 'Longfin Sanddab']\n",
    "    \n",
    "    for row in df.itertuples():\n",
    "        if row._4 in rockfish_species:\n",
    "            if str(row._6) == 'nan':\n",
    "                df.at[row.Index, 'GT Total Length'] = row._5  # Set GT Total Length equal to GT Fork Length\n",
    "            elif str(row._5) == 'nan':\n",
    "                df.at[row.Index, 'GT Fork Length'] = row._6  # Set GT Fork Length equal to GT Total Length\n",
    "            else:\n",
    "                continue\n",
    "        \n",
    "    return df"
   ]
  },
  {
   "cell_type": "code",
   "execution_count": 109,
   "id": "15ea1328",
   "metadata": {},
   "outputs": [],
   "source": [
    "ccfrp_dfs = []\n",
    "for date in ccfrp_dates:\n",
    "    df = pd.read_csv(f'/Users/anu/Documents/e4e/2025-07-21_fishsense-mobile-data-processing/data/fishsense_output - {date}.csv')\n",
    "    df['date'] = date\n",
    "    ccfrp_dfs.append(df)\n",
    "\n",
    "ccfrp_results = pd.concat(ccfrp_dfs)\n",
    "ccfrp_results = rock_fish_adjustment(ccfrp_results)\n",
    "\n",
    "lab_results = pd.read_csv('/Users/anu/Documents/e4e/2025-07-21_fishsense-mobile-data-processing/data/fishsense_output - 20250701.csv')"
   ]
  },
  {
   "cell_type": "code",
   "execution_count": 138,
   "id": "830e4a1d",
   "metadata": {},
   "outputs": [
    {
     "data": {
      "application/vnd.microsoft.datawrangler.viewer.v0+json": {
       "columns": [
        {
         "name": "index",
         "rawType": "int64",
         "type": "integer"
        },
        {
         "name": "TagID",
         "rawType": "int64",
         "type": "integer"
        },
        {
         "name": "Common Name",
         "rawType": "object",
         "type": "string"
        },
        {
         "name": "GT Fork Length",
         "rawType": "int64",
         "type": "integer"
        },
        {
         "name": "FT Total Length",
         "rawType": "int64",
         "type": "integer"
        },
        {
         "name": "FSM Phone",
         "rawType": "int64",
         "type": "integer"
        },
        {
         "name": "FSM Ipad",
         "rawType": "int64",
         "type": "integer"
        },
        {
         "name": "FT Phone",
         "rawType": "float64",
         "type": "float"
        },
        {
         "name": "FT Ipad",
         "rawType": "float64",
         "type": "float"
        }
       ],
       "ref": "20420205-6de2-4acb-8786-97907ce509d7",
       "rows": [
        [
         "0",
         "30279",
         "Gopher Rockfish",
         "250",
         "250",
         "270",
         "275",
         "244.0",
         "257.0"
        ],
        [
         "1",
         "30279",
         "Gopher Rockfish",
         "250",
         "250",
         "252",
         "270",
         "253.0",
         "256.0"
        ],
        [
         "2",
         "30279",
         "Gopher Rockfish",
         "250",
         "250",
         "257",
         "268",
         "248.0",
         "256.0"
        ],
        [
         "3",
         "30279",
         "Gopher Rockfish",
         "250",
         "250",
         "259",
         "271",
         "246.0",
         "253.0"
        ],
        [
         "4",
         "30279",
         "Gopher Rockfish",
         "250",
         "250",
         "242",
         "267",
         "249.0",
         "252.0"
        ],
        [
         "5",
         "30279",
         "Gopher Rockfish",
         "250",
         "250",
         "217",
         "275",
         null,
         null
        ],
        [
         "6",
         "30279",
         "Gopher Rockfish",
         "250",
         "250",
         "258",
         "262",
         null,
         null
        ],
        [
         "7",
         "30279",
         "Gopher Rockfish",
         "250",
         "250",
         "242",
         "269",
         null,
         null
        ],
        [
         "8",
         "30279",
         "Gopher Rockfish",
         "250",
         "250",
         "251",
         "269",
         null,
         null
        ],
        [
         "9",
         "30279",
         "Gopher Rockfish",
         "250",
         "250",
         "251",
         "268",
         null,
         null
        ],
        [
         "10",
         "30279",
         "Gopher Rockfish",
         "250",
         "250",
         "239",
         "275",
         null,
         null
        ],
        [
         "11",
         "30279",
         "Gopher Rockfish",
         "250",
         "250",
         "248",
         "271",
         null,
         null
        ],
        [
         "12",
         "30279",
         "Gopher Rockfish",
         "250",
         "250",
         "254",
         "186",
         null,
         null
        ],
        [
         "13",
         "30279",
         "Gopher Rockfish",
         "250",
         "250",
         "266",
         "244",
         null,
         null
        ],
        [
         "14",
         "30279",
         "Gopher Rockfish",
         "250",
         "250",
         "261",
         "252",
         null,
         null
        ],
        [
         "15",
         "30293",
         "Calico Rockfish",
         "147",
         "149",
         "143",
         "157",
         "145.0",
         "142.0"
        ],
        [
         "16",
         "30293",
         "Calico Rockfish",
         "147",
         "149",
         "152",
         "153",
         "140.0",
         "143.0"
        ],
        [
         "17",
         "30293",
         "Calico Rockfish",
         "147",
         "149",
         "142",
         "159",
         "141.0",
         "142.0"
        ],
        [
         "18",
         "30293",
         "Calico Rockfish",
         "147",
         "149",
         "144",
         "162",
         "140.0",
         "142.0"
        ],
        [
         "19",
         "30293",
         "Calico Rockfish",
         "147",
         "149",
         "140",
         "160",
         "139.0",
         "144.0"
        ],
        [
         "20",
         "30293",
         "Calico Rockfish",
         "147",
         "149",
         "150",
         "154",
         null,
         null
        ],
        [
         "21",
         "30293",
         "Calico Rockfish",
         "147",
         "149",
         "172",
         "152",
         null,
         null
        ],
        [
         "22",
         "30293",
         "Calico Rockfish",
         "147",
         "149",
         "141",
         "165",
         null,
         null
        ],
        [
         "23",
         "30293",
         "Calico Rockfish",
         "147",
         "149",
         "140",
         "149",
         null,
         null
        ],
        [
         "24",
         "30293",
         "Calico Rockfish",
         "147",
         "149",
         "139",
         "152",
         null,
         null
        ],
        [
         "25",
         "30293",
         "Calico Rockfish",
         "147",
         "149",
         "135",
         "154",
         null,
         null
        ],
        [
         "26",
         "30293",
         "Calico Rockfish",
         "147",
         "149",
         "160",
         "155",
         null,
         null
        ],
        [
         "27",
         "30293",
         "Calico Rockfish",
         "147",
         "149",
         "151",
         "156",
         null,
         null
        ],
        [
         "28",
         "30293",
         "Calico Rockfish",
         "147",
         "149",
         "153",
         "161",
         null,
         null
        ],
        [
         "29",
         "30293",
         "Calico Rockfish",
         "147",
         "149",
         "150",
         "153",
         null,
         null
        ],
        [
         "30",
         "30235",
         "Rosy Rockfish",
         "199",
         "199",
         "199",
         "201",
         "200.0",
         "196.0"
        ],
        [
         "31",
         "30235",
         "Rosy Rockfish",
         "199",
         "199",
         "186",
         "198",
         "203.0",
         "200.0"
        ],
        [
         "32",
         "30235",
         "Rosy Rockfish",
         "199",
         "199",
         "201",
         "201",
         "198.0",
         "202.0"
        ],
        [
         "33",
         "30235",
         "Rosy Rockfish",
         "199",
         "199",
         "197",
         "203",
         "195.0",
         "195.0"
        ],
        [
         "34",
         "30235",
         "Rosy Rockfish",
         "199",
         "199",
         "198",
         "201",
         "190.0",
         "199.0"
        ],
        [
         "35",
         "30235",
         "Rosy Rockfish",
         "199",
         "199",
         "198",
         "204",
         null,
         null
        ],
        [
         "36",
         "30235",
         "Rosy Rockfish",
         "199",
         "199",
         "198",
         "204",
         null,
         null
        ],
        [
         "37",
         "30235",
         "Rosy Rockfish",
         "199",
         "199",
         "202",
         "202",
         null,
         null
        ],
        [
         "38",
         "30235",
         "Rosy Rockfish",
         "199",
         "199",
         "197",
         "205",
         null,
         null
        ],
        [
         "39",
         "30235",
         "Rosy Rockfish",
         "199",
         "199",
         "201",
         "201",
         null,
         null
        ],
        [
         "40",
         "30235",
         "Rosy Rockfish",
         "199",
         "199",
         "271",
         "202",
         null,
         null
        ],
        [
         "41",
         "30235",
         "Rosy Rockfish",
         "199",
         "199",
         "194",
         "204",
         null,
         null
        ],
        [
         "42",
         "30235",
         "Rosy Rockfish",
         "199",
         "199",
         "217",
         "203",
         null,
         null
        ],
        [
         "43",
         "30235",
         "Rosy Rockfish",
         "199",
         "199",
         "204",
         "205",
         null,
         null
        ],
        [
         "44",
         "30235",
         "Rosy Rockfish",
         "199",
         "199",
         "203",
         "206",
         null,
         null
        ],
        [
         "45",
         "30226",
         "Honeycomb",
         "144",
         "144",
         "147",
         "152",
         "144.0",
         "143.0"
        ],
        [
         "46",
         "30226",
         "Honeycomb",
         "144",
         "144",
         "145",
         "157",
         "136.0",
         "143.0"
        ],
        [
         "47",
         "30226",
         "Honeycomb",
         "144",
         "144",
         "147",
         "153",
         "142.0",
         "141.0"
        ],
        [
         "48",
         "30226",
         "Honeycomb",
         "144",
         "144",
         "147",
         "151",
         "140.0",
         "143.0"
        ],
        [
         "49",
         "30226",
         "Honeycomb",
         "144",
         "144",
         "143",
         "158",
         "141.0",
         "143.0"
        ]
       ],
       "shape": {
        "columns": 8,
        "rows": 131
       }
      },
      "text/html": [
       "<div>\n",
       "<style scoped>\n",
       "    .dataframe tbody tr th:only-of-type {\n",
       "        vertical-align: middle;\n",
       "    }\n",
       "\n",
       "    .dataframe tbody tr th {\n",
       "        vertical-align: top;\n",
       "    }\n",
       "\n",
       "    .dataframe thead th {\n",
       "        text-align: right;\n",
       "    }\n",
       "</style>\n",
       "<table border=\"1\" class=\"dataframe\">\n",
       "  <thead>\n",
       "    <tr style=\"text-align: right;\">\n",
       "      <th></th>\n",
       "      <th>TagID</th>\n",
       "      <th>Common Name</th>\n",
       "      <th>GT Fork Length</th>\n",
       "      <th>FT Total Length</th>\n",
       "      <th>FSM Phone</th>\n",
       "      <th>FSM Ipad</th>\n",
       "      <th>FT Phone</th>\n",
       "      <th>FT Ipad</th>\n",
       "    </tr>\n",
       "  </thead>\n",
       "  <tbody>\n",
       "    <tr>\n",
       "      <th>0</th>\n",
       "      <td>30279</td>\n",
       "      <td>Gopher Rockfish</td>\n",
       "      <td>250</td>\n",
       "      <td>250</td>\n",
       "      <td>270</td>\n",
       "      <td>275</td>\n",
       "      <td>244.0</td>\n",
       "      <td>257.0</td>\n",
       "    </tr>\n",
       "    <tr>\n",
       "      <th>1</th>\n",
       "      <td>30279</td>\n",
       "      <td>Gopher Rockfish</td>\n",
       "      <td>250</td>\n",
       "      <td>250</td>\n",
       "      <td>252</td>\n",
       "      <td>270</td>\n",
       "      <td>253.0</td>\n",
       "      <td>256.0</td>\n",
       "    </tr>\n",
       "    <tr>\n",
       "      <th>2</th>\n",
       "      <td>30279</td>\n",
       "      <td>Gopher Rockfish</td>\n",
       "      <td>250</td>\n",
       "      <td>250</td>\n",
       "      <td>257</td>\n",
       "      <td>268</td>\n",
       "      <td>248.0</td>\n",
       "      <td>256.0</td>\n",
       "    </tr>\n",
       "    <tr>\n",
       "      <th>3</th>\n",
       "      <td>30279</td>\n",
       "      <td>Gopher Rockfish</td>\n",
       "      <td>250</td>\n",
       "      <td>250</td>\n",
       "      <td>259</td>\n",
       "      <td>271</td>\n",
       "      <td>246.0</td>\n",
       "      <td>253.0</td>\n",
       "    </tr>\n",
       "    <tr>\n",
       "      <th>4</th>\n",
       "      <td>30279</td>\n",
       "      <td>Gopher Rockfish</td>\n",
       "      <td>250</td>\n",
       "      <td>250</td>\n",
       "      <td>242</td>\n",
       "      <td>267</td>\n",
       "      <td>249.0</td>\n",
       "      <td>252.0</td>\n",
       "    </tr>\n",
       "    <tr>\n",
       "      <th>...</th>\n",
       "      <td>...</td>\n",
       "      <td>...</td>\n",
       "      <td>...</td>\n",
       "      <td>...</td>\n",
       "      <td>...</td>\n",
       "      <td>...</td>\n",
       "      <td>...</td>\n",
       "      <td>...</td>\n",
       "    </tr>\n",
       "    <tr>\n",
       "      <th>126</th>\n",
       "      <td>30284</td>\n",
       "      <td>Vermilion</td>\n",
       "      <td>275</td>\n",
       "      <td>277</td>\n",
       "      <td>277</td>\n",
       "      <td>241</td>\n",
       "      <td>NaN</td>\n",
       "      <td>NaN</td>\n",
       "    </tr>\n",
       "    <tr>\n",
       "      <th>127</th>\n",
       "      <td>30284</td>\n",
       "      <td>Vermilion</td>\n",
       "      <td>275</td>\n",
       "      <td>277</td>\n",
       "      <td>275</td>\n",
       "      <td>268</td>\n",
       "      <td>NaN</td>\n",
       "      <td>NaN</td>\n",
       "    </tr>\n",
       "    <tr>\n",
       "      <th>128</th>\n",
       "      <td>30284</td>\n",
       "      <td>Vermilion</td>\n",
       "      <td>275</td>\n",
       "      <td>277</td>\n",
       "      <td>283</td>\n",
       "      <td>262</td>\n",
       "      <td>NaN</td>\n",
       "      <td>NaN</td>\n",
       "    </tr>\n",
       "    <tr>\n",
       "      <th>129</th>\n",
       "      <td>30284</td>\n",
       "      <td>Vermilion</td>\n",
       "      <td>275</td>\n",
       "      <td>277</td>\n",
       "      <td>278</td>\n",
       "      <td>283</td>\n",
       "      <td>NaN</td>\n",
       "      <td>NaN</td>\n",
       "    </tr>\n",
       "    <tr>\n",
       "      <th>130</th>\n",
       "      <td>30284</td>\n",
       "      <td>Vermilion</td>\n",
       "      <td>275</td>\n",
       "      <td>277</td>\n",
       "      <td>279</td>\n",
       "      <td>220</td>\n",
       "      <td>NaN</td>\n",
       "      <td>NaN</td>\n",
       "    </tr>\n",
       "  </tbody>\n",
       "</table>\n",
       "<p>131 rows × 8 columns</p>\n",
       "</div>"
      ],
      "text/plain": [
       "     TagID      Common Name  GT Fork Length  FT Total Length  FSM Phone  \\\n",
       "0    30279  Gopher Rockfish             250              250        270   \n",
       "1    30279  Gopher Rockfish             250              250        252   \n",
       "2    30279  Gopher Rockfish             250              250        257   \n",
       "3    30279  Gopher Rockfish             250              250        259   \n",
       "4    30279  Gopher Rockfish             250              250        242   \n",
       "..     ...              ...             ...              ...        ...   \n",
       "126  30284       Vermilion              275              277        277   \n",
       "127  30284       Vermilion              275              277        275   \n",
       "128  30284       Vermilion              275              277        283   \n",
       "129  30284       Vermilion              275              277        278   \n",
       "130  30284       Vermilion              275              277        279   \n",
       "\n",
       "     FSM Ipad  FT Phone  FT Ipad  \n",
       "0         275     244.0    257.0  \n",
       "1         270     253.0    256.0  \n",
       "2         268     248.0    256.0  \n",
       "3         271     246.0    253.0  \n",
       "4         267     249.0    252.0  \n",
       "..        ...       ...      ...  \n",
       "126       241       NaN      NaN  \n",
       "127       268       NaN      NaN  \n",
       "128       262       NaN      NaN  \n",
       "129       283       NaN      NaN  \n",
       "130       220       NaN      NaN  \n",
       "\n",
       "[131 rows x 8 columns]"
      ]
     },
     "execution_count": 138,
     "metadata": {},
     "output_type": "execute_result"
    }
   ],
   "source": [
    "lab_results"
   ]
  },
  {
   "cell_type": "code",
   "execution_count": 146,
   "id": "8d48f293",
   "metadata": {},
   "outputs": [
    {
     "data": {
      "text/plain": [
       "<Axes: xlabel='diff', ylabel='Count'>"
      ]
     },
     "execution_count": 146,
     "metadata": {},
     "output_type": "execute_result"
    },
    {
     "data": {
      "image/png": "[encoded data removed]",
      "text/plain": [
       "<Figure size 640x480 with 1 Axes>"
      ]
     },
     "metadata": {},
     "output_type": "display_data"
    }
   ],
   "source": [
    "# lab results plotting\n",
    "lab_results['diff'] = lab_results['FT Total Length'] - lab_results['FT Phone']\n",
    "\n",
    "sns.histplot(data=lab_results, x='diff', bins = 10, label='GT Total Length')"
   ]
  },
  {
   "cell_type": "code",
   "execution_count": 129,
   "id": "508e1397",
   "metadata": {},
   "outputs": [],
   "source": [
    "# fishtechy results (removing outliers in the plot)\n",
    "fishtechy_df = ccfrp_results.copy().reset_index()\n",
    "\n",
    "fishtechy_df['diff'] = fishtechy_df['GT Total Length'] - fishtechy_df['FishTechy']\n",
    "\n"
   ]
  },
  {
   "cell_type": "code",
   "execution_count": 134,
   "id": "767f7bd2",
   "metadata": {},
   "outputs": [
    {
     "data": {
      "text/plain": [
       "<Axes: xlabel='GT Total Length', ylabel='Count'>"
      ]
     },
     "execution_count": 134,
     "metadata": {},
     "output_type": "execute_result"
    },
    {
     "data": {
      "image/png": "[encoded data removed]",
      "text/plain": [
       "<Figure size 640x480 with 1 Axes>"
      ]
     },
     "metadata": {},
     "output_type": "display_data"
    }
   ],
   "source": [
    "sns.histplot(data=fishtechy_df, x='GT Total Length', bins = 15, label='GT Total Length')"
   ]
  },
  {
   "cell_type": "code",
   "execution_count": null,
   "id": "02933952",
   "metadata": {},
   "outputs": [],
   "source": [
    "# lab results"
   ]
  }
 ],
 "metadata": {
  "kernelspec": {
   "display_name": "deep_learning",
   "language": "python",
   "name": "python3"
  },
  "language_info": {
   "codemirror_mode": {
    "name": "ipython",
    "version": 3
   },
   "file_extension": ".py",
   "mimetype": "text/x-python",
   "name": "python",
   "nbconvert_exporter": "python",
   "pygments_lexer": "ipython3",
   "version": "3.12.2"
  }
 },
 "nbformat": 4,
 "nbformat_minor": 5
}
